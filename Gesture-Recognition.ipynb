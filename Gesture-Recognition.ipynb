{
 "cells": [
  {
   "cell_type": "markdown",
   "metadata": {},
   "source": [
    "# Gesture Recognition\n",
    "In this group project, you are going to build a 3D Conv model that will be able to predict the 5 gestures correctly. Please import the following libraries to get started."
   ]
  },
  {
   "cell_type": "code",
   "execution_count": 1,
   "metadata": {},
   "outputs": [],
   "source": [
    "import numpy as np\n",
    "import os\n",
    "from scipy.misc import imread, imresize\n",
    "import datetime\n",
    "import os"
   ]
  },
  {
   "cell_type": "markdown",
   "metadata": {},
   "source": [
    "We set the random seed so that the results don't vary drastically."
   ]
  },
  {
   "cell_type": "code",
   "execution_count": 2,
   "metadata": {},
   "outputs": [
    {
     "name": "stderr",
     "output_type": "stream",
     "text": [
      "Using TensorFlow backend.\n"
     ]
    }
   ],
   "source": [
    "np.random.seed(30)\n",
    "import random as rn\n",
    "rn.seed(30)\n",
    "from keras import backend as K\n",
    "import tensorflow as tf\n",
    "tf.set_random_seed(30)"
   ]
  },
  {
   "cell_type": "markdown",
   "metadata": {},
   "source": [
    "In this block, you read the folder names for training and validation. You also set the `batch_size` here. Note that you set the batch size in such a way that you are able to use the GPU in full capacity. You keep increasing the batch size until the machine throws an error."
   ]
  },
  {
   "cell_type": "code",
   "execution_count": 3,
   "metadata": {},
   "outputs": [],
   "source": [
    "train_doc = np.random.permutation(open('./Project_data/train.csv').readlines())\n",
    "val_doc = np.random.permutation(open('./Project_data/val.csv').readlines())\n",
    "batch_size = 38"
   ]
  },
  {
   "cell_type": "markdown",
   "metadata": {},
   "source": [
    "## Generator\n",
    "This is one of the most important part of the code. The overall structure of the generator has been given. In the generator, you are going to preprocess the images as you have images of 2 different dimensions as well as create a batch of video frames. You have to experiment with `img_idx`, `y`,`z` and normalization such that you get high accuracy."
   ]
  },
  {
   "cell_type": "code",
   "execution_count": 4,
   "metadata": {},
   "outputs": [
    {
     "name": "stdout",
     "output_type": "stream",
     "text": [
      "17\n",
      "17\n"
     ]
    }
   ],
   "source": [
    "print(len(train_doc)//batch_size)\n",
    "print(len(train_doc)%batch_size)"
   ]
  },
  {
   "cell_type": "code",
   "execution_count": 5,
   "metadata": {},
   "outputs": [],
   "source": [
    "def generator(source_path, folder_list, batch_size):\n",
    "    print( 'Source path = ', source_path, '; batch size =', batch_size)\n",
    "    img_idx = [4, 5, 6, 7, 8, 9, 10, 11, 12, 13, 14, 15, 17, 18, 19, 20, 21, 22, 23, 24]\n",
    "    while True:\n",
    "        t = np.random.permutation(folder_list)\n",
    "        num_batches = len(folder_list)//batch_size\n",
    "        for batch in range(num_batches): # we iterate over the number of batches\n",
    "            batch_data = np.zeros((batch_size, len(img_idx), 120, 120, 3)) # x is the number of images you use for each video, (y,z) is the final size of the input images and 3 is the number of channels RGB\n",
    "            batch_labels = np.zeros((batch_size,5)) # batch_labels is the one hot representation of the output\n",
    "            for folder in range(batch_size): # iterate over the batch_size\n",
    "                imgs = os.listdir(source_path+'/'+ t[folder + (batch*batch_size)].split(';')[0]) # read all the images in the folder\n",
    "                for idx,item in enumerate(img_idx): #  Iterate iver the frames/images of a folder to read them in\n",
    "                    image = imread(source_path+'/'+ t[folder + (batch*batch_size)].strip().split(';')[0]+'/'+imgs[item]).astype(np.float32)\n",
    "                    \n",
    "                    #crop the images and resize them. Note that the images are of 2 different shape \n",
    "                    #and the conv3D will throw error if the inputs in a batch have different shapes\n",
    "                    \n",
    "                    image = imresize(image, (120, 120))\n",
    "                    image = image/255\n",
    "                    \n",
    "                    batch_data[folder,idx,:,:,0] = image[:,:,0]\n",
    "                    batch_data[folder,idx,:,:,1] = image[:,:,1]\n",
    "                    batch_data[folder,idx,:,:,2] = image[:,:,2]\n",
    "                    \n",
    "                batch_labels[folder, int(t[folder + (batch*batch_size)].strip().split(';')[2])] = 1\n",
    "            yield batch_data, batch_labels #you yield the batch_data and the batch_labels, remember what does yield do\n",
    "\n",
    "        \n",
    "        # write the code for the remaining data points which are left after full batches\n",
    "        \n",
    "        rem_batch_size = len(folder_list)%batch_size # calculating batch size of remaining sequences\n",
    "        batch_data = np.zeros((rem_batch_size, len(img_idx), 120, 120, 3)) # x is the number of images you use for each video, (y,z) is the final size of the input images and 3 is the number of channels RGB\n",
    "        batch_labels = np.zeros((rem_batch_size,5)) # batch_labels is the one hot representation of the output\n",
    "        for folder in range(rem_batch_size): # iterate over the batch_size\n",
    "            imgs = os.listdir(source_path+'/'+ t[folder + ((num_batches + 1)*rem_batch_size)].split(';')[0]) # read all the images in the folder\n",
    "            for idx,item in enumerate(img_idx): #  Iterate iver the frames/images of a folder to read them in\n",
    "                image = imread(source_path+'/'+ t[folder + ((num_batches + 1)*rem_batch_size)].strip().split(';')[0]+'/'+imgs[item]).astype(np.float32)\n",
    "\n",
    "                #crop the images and resize them. Note that the images are of 2 different shape \n",
    "                #and the conv3D will throw error if the inputs in a batch have different shapes\n",
    "\n",
    "                image = imresize(image, (120, 120))\n",
    "                image = image/255\n",
    "\n",
    "                batch_data[folder,idx,:,:,0] = image[:,:,0]\n",
    "                batch_data[folder,idx,:,:,1] = image[:,:,1]\n",
    "                batch_data[folder,idx,:,:,2] = image[:,:,2]\n",
    "\n",
    "            batch_labels[folder, int(t[folder + (batch*batch_size)].strip().split(';')[2])] = 1\n",
    "        yield batch_data, batch_labels #you yield the batch_data and the batch_labels, remember what does yield do\n"
   ]
  },
  {
   "cell_type": "markdown",
   "metadata": {},
   "source": [
    "Note here that a video is represented above in the generator as (number of images, height, width, number of channels). Take this into consideration while creating the model architecture."
   ]
  },
  {
   "cell_type": "code",
   "execution_count": 6,
   "metadata": {},
   "outputs": [
    {
     "name": "stdout",
     "output_type": "stream",
     "text": [
      "# training sequences = 663\n",
      "# validation sequences = 100\n",
      "# epochs = 30\n"
     ]
    }
   ],
   "source": [
    "curr_dt_time = datetime.datetime.now()\n",
    "train_path = './Project_data/train'\n",
    "val_path = './Project_data/val'\n",
    "num_train_sequences = len(train_doc)\n",
    "print('# training sequences =', num_train_sequences)\n",
    "num_val_sequences = len(val_doc)\n",
    "print('# validation sequences =', num_val_sequences)\n",
    "num_epochs = 50\n",
    "print ('# epochs =', num_epochs)"
   ]
  },
  {
   "cell_type": "markdown",
   "metadata": {},
   "source": [
    "## Model\n",
    "Here you make the model using different functionalities that Keras provides. Remember to use `Conv3D` and `MaxPooling3D` and not `Conv2D` and `Maxpooling2D` for a 3D convolution model. You would want to use `TimeDistributed` while building a Conv2D + RNN model. Also remember that the last layer is the softmax. Design the network in such a way that the model is able to give good accuracy on the least number of parameters so that it can fit in the memory of the webcam."
   ]
  },
  {
   "cell_type": "code",
   "execution_count": 7,
   "metadata": {},
   "outputs": [
    {
     "name": "stdout",
     "output_type": "stream",
     "text": [
      "_________________________________________________________________\n",
      "Layer (type)                 Output Shape              Param #   \n",
      "=================================================================\n",
      "conv3d_1 (Conv3D)            (None, 18, 118, 118, 32)  2624      \n",
      "_________________________________________________________________\n",
      "batch_normalization_1 (Batch (None, 18, 118, 118, 32)  128       \n",
      "_________________________________________________________________\n",
      "max_pooling3d_1 (MaxPooling3 (None, 9, 59, 59, 32)     0         \n",
      "_________________________________________________________________\n",
      "dropout_1 (Dropout)          (None, 9, 59, 59, 32)     0         \n",
      "_________________________________________________________________\n",
      "conv3d_2 (Conv3D)            (None, 7, 57, 57, 64)     55360     \n",
      "_________________________________________________________________\n",
      "batch_normalization_2 (Batch (None, 7, 57, 57, 64)     256       \n",
      "_________________________________________________________________\n",
      "max_pooling3d_2 (MaxPooling3 (None, 3, 28, 28, 64)     0         \n",
      "_________________________________________________________________\n",
      "dropout_2 (Dropout)          (None, 3, 28, 28, 64)     0         \n",
      "_________________________________________________________________\n",
      "flatten_1 (Flatten)          (None, 150528)            0         \n",
      "_________________________________________________________________\n",
      "dense_1 (Dense)              (None, 256)               38535424  \n",
      "_________________________________________________________________\n",
      "dropout_3 (Dropout)          (None, 256)               0         \n",
      "_________________________________________________________________\n",
      "dense_2 (Dense)              (None, 5)                 1285      \n",
      "=================================================================\n",
      "Total params: 38,595,077\n",
      "Trainable params: 38,594,885\n",
      "Non-trainable params: 192\n",
      "_________________________________________________________________\n"
     ]
    }
   ],
   "source": [
    "from keras.models import Sequential, Model\n",
    "from keras.layers import Dense, GRU, Flatten, TimeDistributed, Flatten, BatchNormalization, Activation, Dropout\n",
    "from keras.layers.convolutional import Conv3D, MaxPooling3D\n",
    "from keras.callbacks import ModelCheckpoint, ReduceLROnPlateau\n",
    "from keras import optimizers\n",
    "from keras.regularizers import l2\n",
    "\n",
    "#write your model here\n",
    "\n",
    "input_shape = (20, 120, 120, 3)\n",
    "num_classes = 5\n",
    "\n",
    "# model\n",
    "\n",
    "model = Sequential()\n",
    "\n",
    "model.add(Conv3D(32, \n",
    "                 kernel_size=(3, 3, 3), \n",
    "                 activation='relu', \n",
    "                 input_shape=input_shape))\n",
    "model.add(BatchNormalization())\n",
    "model.add(MaxPooling3D(pool_size=(2, 2, 2)))\n",
    "model.add(Dropout(0.25))\n",
    "\n",
    "model.add(Conv3D(64, \n",
    "                 kernel_size=(3, 3, 3), \n",
    "                 activation='relu'))\n",
    "model.add(BatchNormalization())\n",
    "model.add(MaxPooling3D(pool_size=(2, 2, 2)))\n",
    "model.add(Dropout(0.25))\n",
    "\n",
    "model.add(Flatten())\n",
    "model.add(Dense(256, kernel_regularizer=l2(0.01), activation='relu'))\n",
    "model.add(Dropout(0.5))\n",
    "model.add(Dense(num_classes, activation='softmax'))\n",
    "\n",
    "# model summary\n",
    "model.summary()"
   ]
  },
  {
   "cell_type": "markdown",
   "metadata": {},
   "source": [
    "Now that you have written the model, the next step is to `compile` the model. When you print the `summary` of the model, you'll see the total number of parameters you have to train."
   ]
  },
  {
   "cell_type": "code",
   "execution_count": 8,
   "metadata": {
    "scrolled": true
   },
   "outputs": [
    {
     "name": "stdout",
     "output_type": "stream",
     "text": [
      "_________________________________________________________________\n",
      "Layer (type)                 Output Shape              Param #   \n",
      "=================================================================\n",
      "conv3d_1 (Conv3D)            (None, 18, 118, 118, 32)  2624      \n",
      "_________________________________________________________________\n",
      "batch_normalization_1 (Batch (None, 18, 118, 118, 32)  128       \n",
      "_________________________________________________________________\n",
      "max_pooling3d_1 (MaxPooling3 (None, 9, 59, 59, 32)     0         \n",
      "_________________________________________________________________\n",
      "dropout_1 (Dropout)          (None, 9, 59, 59, 32)     0         \n",
      "_________________________________________________________________\n",
      "conv3d_2 (Conv3D)            (None, 7, 57, 57, 64)     55360     \n",
      "_________________________________________________________________\n",
      "batch_normalization_2 (Batch (None, 7, 57, 57, 64)     256       \n",
      "_________________________________________________________________\n",
      "max_pooling3d_2 (MaxPooling3 (None, 3, 28, 28, 64)     0         \n",
      "_________________________________________________________________\n",
      "dropout_2 (Dropout)          (None, 3, 28, 28, 64)     0         \n",
      "_________________________________________________________________\n",
      "flatten_1 (Flatten)          (None, 150528)            0         \n",
      "_________________________________________________________________\n",
      "dense_1 (Dense)              (None, 256)               38535424  \n",
      "_________________________________________________________________\n",
      "dropout_3 (Dropout)          (None, 256)               0         \n",
      "_________________________________________________________________\n",
      "dense_2 (Dense)              (None, 5)                 1285      \n",
      "=================================================================\n",
      "Total params: 38,595,077\n",
      "Trainable params: 38,594,885\n",
      "Non-trainable params: 192\n",
      "_________________________________________________________________\n",
      "None\n"
     ]
    }
   ],
   "source": [
    "optimiser = optimizers.Adam(lr=0.0001)\n",
    "model.compile(optimizer=optimiser, loss='categorical_crossentropy', metrics=['categorical_accuracy'])\n",
    "print (model.summary())"
   ]
  },
  {
   "cell_type": "markdown",
   "metadata": {},
   "source": [
    "Let us create the `train_generator` and the `val_generator` which will be used in `.fit_generator`."
   ]
  },
  {
   "cell_type": "code",
   "execution_count": 9,
   "metadata": {},
   "outputs": [],
   "source": [
    "train_generator = generator(train_path, train_doc, batch_size)\n",
    "val_generator = generator(val_path, val_doc, batch_size)"
   ]
  },
  {
   "cell_type": "code",
   "execution_count": 10,
   "metadata": {},
   "outputs": [],
   "source": [
    "model_name = 'model_init' + '_' + str(curr_dt_time).replace(' ','').replace(':','_') + '/'\n",
    "    \n",
    "if not os.path.exists(model_name):\n",
    "    os.mkdir(model_name)\n",
    "        \n",
    "filepath = model_name + 'model-{epoch:05d}-{loss:.5f}-{categorical_accuracy:.5f}-{val_loss:.5f}-{val_categorical_accuracy:.5f}.h5'\n",
    "\n",
    "checkpoint = ModelCheckpoint(filepath, monitor='val_categorical_accuracy', verbose=1, save_best_only=True, save_weights_only=False, mode='max', period=1)\n",
    "\n",
    "LR = ReduceLROnPlateau(monitor='val_loss', factor=0.5,\n",
    "                              patience=1, min_lr=0.0000001, verbose=1)\n",
    "callbacks_list = [checkpoint, LR]"
   ]
  },
  {
   "cell_type": "markdown",
   "metadata": {},
   "source": [
    "The `steps_per_epoch` and `validation_steps` are used by `fit_generator` to decide the number of next() calls it need to make."
   ]
  },
  {
   "cell_type": "code",
   "execution_count": 11,
   "metadata": {},
   "outputs": [],
   "source": [
    "if (num_train_sequences%batch_size) == 0:\n",
    "    steps_per_epoch = int(num_train_sequences/batch_size)\n",
    "else:\n",
    "    steps_per_epoch = (num_train_sequences//batch_size) + 1\n",
    "\n",
    "if (num_val_sequences%batch_size) == 0:\n",
    "    validation_steps = int(num_val_sequences/batch_size)\n",
    "else:\n",
    "    validation_steps = (num_val_sequences//batch_size) + 1"
   ]
  },
  {
   "cell_type": "markdown",
   "metadata": {},
   "source": [
    "Let us now fit the model. This will start training the model and with the help of the checkpoints, you'll be able to save the model at the end of each epoch."
   ]
  },
  {
   "cell_type": "code",
   "execution_count": 12,
   "metadata": {},
   "outputs": [
    {
     "name": "stdout",
     "output_type": "stream",
     "text": [
      "Source path =  ./Project_data/val ; batch size = 38\n",
      "Source path =  ./Project_data/train ; batch size = 38\n",
      "Epoch 1/30\n"
     ]
    },
    {
     "name": "stderr",
     "output_type": "stream",
     "text": [
      "/mnt/disks/user/anaconda3/lib/python3.6/site-packages/ipykernel_launcher.py:13: DeprecationWarning: `imread` is deprecated!\n",
      "`imread` is deprecated in SciPy 1.0.0, and will be removed in 1.2.0.\n",
      "Use ``imageio.imread`` instead.\n",
      "  del sys.path[0]\n",
      "/mnt/disks/user/anaconda3/lib/python3.6/site-packages/ipykernel_launcher.py:18: DeprecationWarning: `imresize` is deprecated!\n",
      "`imresize` is deprecated in SciPy 1.0.0, and will be removed in 1.2.0.\n",
      "Use ``skimage.transform.resize`` instead.\n",
      "/mnt/disks/user/anaconda3/lib/python3.6/site-packages/ipykernel_launcher.py:37: DeprecationWarning: `imread` is deprecated!\n",
      "`imread` is deprecated in SciPy 1.0.0, and will be removed in 1.2.0.\n",
      "Use ``imageio.imread`` instead.\n",
      "/mnt/disks/user/anaconda3/lib/python3.6/site-packages/ipykernel_launcher.py:42: DeprecationWarning: `imresize` is deprecated!\n",
      "`imresize` is deprecated in SciPy 1.0.0, and will be removed in 1.2.0.\n",
      "Use ``skimage.transform.resize`` instead.\n"
     ]
    },
    {
     "name": "stdout",
     "output_type": "stream",
     "text": [
      "18/18 [==============================] - 146s 8s/step - loss: 15.5639 - categorical_accuracy: 0.2509 - val_loss: 15.7060 - val_categorical_accuracy: 0.2900\n",
      "\n",
      "Epoch 00001: val_categorical_accuracy improved from -inf to 0.29000, saving model to model_init_2020-02-0915_56_46.132711/model-00001-15.45236-0.25490-15.70597-0.29000.h5\n",
      "Epoch 2/30\n",
      "18/18 [==============================] - 60s 3s/step - loss: 14.8881 - categorical_accuracy: 0.3495 - val_loss: 15.3109 - val_categorical_accuracy: 0.3100\n",
      "\n",
      "Epoch 00002: val_categorical_accuracy improved from 0.29000 to 0.31000, saving model to model_init_2020-02-0915_56_46.132711/model-00002-14.85969-0.35294-15.31086-0.31000.h5\n",
      "Epoch 3/30\n",
      "18/18 [==============================] - 58s 3s/step - loss: 14.0035 - categorical_accuracy: 0.3832 - val_loss: 13.6339 - val_categorical_accuracy: 0.3900\n",
      "\n",
      "Epoch 00003: val_categorical_accuracy improved from 0.31000 to 0.39000, saving model to model_init_2020-02-0915_56_46.132711/model-00003-13.95491-0.38763-13.63394-0.39000.h5\n",
      "Epoch 4/30\n",
      "18/18 [==============================] - 56s 3s/step - loss: 13.9298 - categorical_accuracy: 0.3744 - val_loss: 12.9617 - val_categorical_accuracy: 0.4300\n",
      "\n",
      "Epoch 00004: val_categorical_accuracy improved from 0.39000 to 0.43000, saving model to model_init_2020-02-0915_56_46.132711/model-00004-13.83650-0.37858-12.96168-0.43000.h5\n",
      "Epoch 5/30\n",
      "18/18 [==============================] - 52s 3s/step - loss: 13.1110 - categorical_accuracy: 0.4157 - val_loss: 13.3634 - val_categorical_accuracy: 0.4200\n",
      "\n",
      "Epoch 00005: val_categorical_accuracy did not improve from 0.43000\n",
      "Epoch 6/30\n",
      "18/18 [==============================] - 52s 3s/step - loss: 12.2023 - categorical_accuracy: 0.4708 - val_loss: 13.6349 - val_categorical_accuracy: 0.3900\n",
      "\n",
      "Epoch 00006: val_categorical_accuracy did not improve from 0.43000\n",
      "Epoch 7/30\n",
      "18/18 [==============================] - 52s 3s/step - loss: 12.4492 - categorical_accuracy: 0.4486 - val_loss: 13.3772 - val_categorical_accuracy: 0.4100\n",
      "\n",
      "Epoch 00007: val_categorical_accuracy did not improve from 0.43000\n",
      "Epoch 8/30\n",
      "18/18 [==============================] - 51s 3s/step - loss: 12.5161 - categorical_accuracy: 0.4484 - val_loss: 13.2200 - val_categorical_accuracy: 0.4000\n",
      "\n",
      "Epoch 00008: val_categorical_accuracy did not improve from 0.43000\n",
      "Epoch 9/30\n",
      "18/18 [==============================] - 51s 3s/step - loss: 11.1628 - categorical_accuracy: 0.5177 - val_loss: 12.9885 - val_categorical_accuracy: 0.4100\n",
      "\n",
      "Epoch 00009: val_categorical_accuracy did not improve from 0.43000\n",
      "\n",
      "Epoch 00009: ReduceLROnPlateau reducing learning rate to 4.999999873689376e-05.\n",
      "Epoch 10/30\n",
      "18/18 [==============================] - 52s 3s/step - loss: 10.4452 - categorical_accuracy: 0.5511 - val_loss: 12.1490 - val_categorical_accuracy: 0.4500\n",
      "\n",
      "Epoch 00010: val_categorical_accuracy improved from 0.43000 to 0.45000, saving model to model_init_2020-02-0915_56_46.132711/model-00010-10.24596-0.56410-12.14903-0.45000.h5\n",
      "Epoch 11/30\n",
      "18/18 [==============================] - 51s 3s/step - loss: 9.5810 - categorical_accuracy: 0.6026 - val_loss: 11.7612 - val_categorical_accuracy: 0.4200\n",
      "\n",
      "Epoch 00011: val_categorical_accuracy did not improve from 0.45000\n",
      "Epoch 12/30\n",
      "18/18 [==============================] - 52s 3s/step - loss: 9.0764 - categorical_accuracy: 0.6263 - val_loss: 11.0922 - val_categorical_accuracy: 0.4400\n",
      "\n",
      "Epoch 00012: val_categorical_accuracy did not improve from 0.45000\n",
      "Epoch 13/30\n",
      "18/18 [==============================] - 51s 3s/step - loss: 8.2552 - categorical_accuracy: 0.6497 - val_loss: 10.2666 - val_categorical_accuracy: 0.5300\n",
      "\n",
      "Epoch 00013: val_categorical_accuracy improved from 0.45000 to 0.53000, saving model to model_init_2020-02-0915_56_46.132711/model-00013-8.09129-0.66214-10.26661-0.53000.h5\n",
      "Epoch 14/30\n",
      "18/18 [==============================] - 51s 3s/step - loss: 7.5865 - categorical_accuracy: 0.6919 - val_loss: 9.0008 - val_categorical_accuracy: 0.6300\n",
      "\n",
      "Epoch 00014: val_categorical_accuracy improved from 0.53000 to 0.63000, saving model to model_init_2020-02-0915_56_46.132711/model-00014-7.29399-0.70739-9.00081-0.63000.h5\n",
      "Epoch 15/30\n",
      "18/18 [==============================] - 51s 3s/step - loss: 6.7973 - categorical_accuracy: 0.7305 - val_loss: 8.7908 - val_categorical_accuracy: 0.5500\n",
      "\n",
      "Epoch 00015: val_categorical_accuracy did not improve from 0.63000\n",
      "Epoch 16/30\n",
      "18/18 [==============================] - 52s 3s/step - loss: 6.1322 - categorical_accuracy: 0.7696 - val_loss: 8.8311 - val_categorical_accuracy: 0.5600\n",
      "\n",
      "Epoch 00016: val_categorical_accuracy did not improve from 0.63000\n",
      "Epoch 17/30\n",
      "18/18 [==============================] - 51s 3s/step - loss: 5.7970 - categorical_accuracy: 0.7801 - val_loss: 8.8611 - val_categorical_accuracy: 0.4900\n",
      "\n",
      "Epoch 00017: val_categorical_accuracy did not improve from 0.63000\n",
      "Epoch 18/30\n",
      "18/18 [==============================] - 52s 3s/step - loss: 5.4450 - categorical_accuracy: 0.7759 - val_loss: 7.5650 - val_categorical_accuracy: 0.6300\n",
      "\n",
      "Epoch 00018: val_categorical_accuracy did not improve from 0.63000\n",
      "Epoch 19/30\n",
      "18/18 [==============================] - 51s 3s/step - loss: 5.2021 - categorical_accuracy: 0.7942 - val_loss: 7.0550 - val_categorical_accuracy: 0.6100\n",
      "\n",
      "Epoch 00019: val_categorical_accuracy did not improve from 0.63000\n",
      "Epoch 20/30\n",
      "18/18 [==============================] - 52s 3s/step - loss: 4.8981 - categorical_accuracy: 0.8377 - val_loss: 7.7601 - val_categorical_accuracy: 0.5700\n",
      "\n",
      "Epoch 00020: val_categorical_accuracy did not improve from 0.63000\n",
      "Epoch 21/30\n",
      "18/18 [==============================] - 51s 3s/step - loss: 4.8101 - categorical_accuracy: 0.8445 - val_loss: 7.7696 - val_categorical_accuracy: 0.5200\n",
      "\n",
      "Epoch 00021: val_categorical_accuracy did not improve from 0.63000\n",
      "Epoch 22/30\n",
      "18/18 [==============================] - 51s 3s/step - loss: 4.6745 - categorical_accuracy: 0.8381 - val_loss: 6.3349 - val_categorical_accuracy: 0.6400\n",
      "\n",
      "Epoch 00022: val_categorical_accuracy improved from 0.63000 to 0.64000, saving model to model_init_2020-02-0915_56_46.132711/model-00022-4.38468-0.85973-6.33491-0.64000.h5\n",
      "Epoch 23/30\n",
      "18/18 [==============================] - 51s 3s/step - loss: 4.7060 - categorical_accuracy: 0.8384 - val_loss: 6.5251 - val_categorical_accuracy: 0.5700\n",
      "\n",
      "Epoch 00023: val_categorical_accuracy did not improve from 0.64000\n",
      "Epoch 24/30\n",
      "18/18 [==============================] - 51s 3s/step - loss: 4.4526 - categorical_accuracy: 0.8311 - val_loss: 6.7146 - val_categorical_accuracy: 0.5800\n",
      "\n",
      "Epoch 00024: val_categorical_accuracy did not improve from 0.64000\n",
      "Epoch 25/30\n",
      "18/18 [==============================] - 51s 3s/step - loss: 4.3842 - categorical_accuracy: 0.8445 - val_loss: 6.5492 - val_categorical_accuracy: 0.5600\n",
      "\n",
      "Epoch 00025: val_categorical_accuracy did not improve from 0.64000\n",
      "Epoch 26/30\n",
      "18/18 [==============================] - 52s 3s/step - loss: 4.4355 - categorical_accuracy: 0.8562 - val_loss: 6.3783 - val_categorical_accuracy: 0.6200\n",
      "\n",
      "Epoch 00026: val_categorical_accuracy did not improve from 0.64000\n",
      "Epoch 27/30\n",
      "18/18 [==============================] - 52s 3s/step - loss: 4.0926 - categorical_accuracy: 0.8638 - val_loss: 6.5618 - val_categorical_accuracy: 0.5500\n",
      "\n",
      "Epoch 00027: val_categorical_accuracy did not improve from 0.64000\n",
      "\n",
      "Epoch 00027: ReduceLROnPlateau reducing learning rate to 2.499999936844688e-05.\n",
      "Epoch 28/30\n",
      "18/18 [==============================] - 52s 3s/step - loss: 4.2309 - categorical_accuracy: 0.8530 - val_loss: 6.2255 - val_categorical_accuracy: 0.5500\n",
      "\n",
      "Epoch 00028: val_categorical_accuracy did not improve from 0.64000\n",
      "Epoch 29/30\n",
      "18/18 [==============================] - 51s 3s/step - loss: 4.0048 - categorical_accuracy: 0.8752 - val_loss: 6.4882 - val_categorical_accuracy: 0.5200\n",
      "\n",
      "Epoch 00029: val_categorical_accuracy did not improve from 0.64000\n",
      "Epoch 30/30\n",
      "18/18 [==============================] - 52s 3s/step - loss: 4.2500 - categorical_accuracy: 0.8706 - val_loss: 6.5899 - val_categorical_accuracy: 0.5900\n",
      "\n",
      "Epoch 00030: val_categorical_accuracy did not improve from 0.64000\n"
     ]
    },
    {
     "data": {
      "text/plain": [
       "<keras.callbacks.History at 0x7fdf827163c8>"
      ]
     },
     "execution_count": 12,
     "metadata": {},
     "output_type": "execute_result"
    }
   ],
   "source": [
    "model.fit_generator(train_generator, steps_per_epoch=steps_per_epoch, epochs=num_epochs, verbose=1, \n",
    "                    callbacks=callbacks_list, validation_data=val_generator, \n",
    "                    validation_steps=validation_steps, class_weight=None, workers=1, initial_epoch=0)"
   ]
  },
  {
   "cell_type": "code",
   "execution_count": null,
   "metadata": {},
   "outputs": [],
   "source": []
  }
 ],
 "metadata": {
  "kernelspec": {
   "display_name": "Python 3",
   "language": "python",
   "name": "python3"
  },
  "language_info": {
   "codemirror_mode": {
    "name": "ipython",
    "version": 3
   },
   "file_extension": ".py",
   "mimetype": "text/x-python",
   "name": "python",
   "nbconvert_exporter": "python",
   "pygments_lexer": "ipython3",
   "version": "3.7.4"
  }
 },
 "nbformat": 4,
 "nbformat_minor": 2
}
